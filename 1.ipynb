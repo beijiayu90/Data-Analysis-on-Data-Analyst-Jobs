{
 "cells": [
  {
   "cell_type": "markdown",
   "metadata": {},
   "source": [
    "# Import Modules"
   ]
  },
  {
   "cell_type": "code",
   "execution_count": 1,
   "metadata": {},
   "outputs": [],
   "source": [
    "import numpy as np\n",
    "import pandas as pd\n",
    "import os\n",
    "import seaborn as sns\n",
    "import matplotlib.pyplot as plt\n",
    "\n",
    "import utils.helper as uh"
   ]
  },
  {
   "cell_type": "code",
   "execution_count": 2,
   "metadata": {},
   "outputs": [],
   "source": [
    "data_dir = './data'\n",
    "\n",
    "datafile = os.path.join(data_dir, 'DataAnalyst.csv')\n",
    "\n",
    "df = pd.read_csv(datafile, index_col=0)"
   ]
  },
  {
   "cell_type": "code",
   "execution_count": 3,
   "metadata": {},
   "outputs": [
    {
     "data": {
      "text/html": [
       "<div>\n",
       "<style scoped>\n",
       "    .dataframe tbody tr th:only-of-type {\n",
       "        vertical-align: middle;\n",
       "    }\n",
       "\n",
       "    .dataframe tbody tr th {\n",
       "        vertical-align: top;\n",
       "    }\n",
       "\n",
       "    .dataframe thead th {\n",
       "        text-align: right;\n",
       "    }\n",
       "</style>\n",
       "<table border=\"1\" class=\"dataframe\">\n",
       "  <thead>\n",
       "    <tr style=\"text-align: right;\">\n",
       "      <th></th>\n",
       "      <th>Job Title</th>\n",
       "      <th>Salary Estimate</th>\n",
       "      <th>Job Description</th>\n",
       "      <th>Rating</th>\n",
       "      <th>Company Name</th>\n",
       "      <th>Location</th>\n",
       "      <th>Headquarters</th>\n",
       "      <th>Size</th>\n",
       "      <th>Founded</th>\n",
       "      <th>Type of ownership</th>\n",
       "      <th>Industry</th>\n",
       "      <th>Sector</th>\n",
       "      <th>Revenue</th>\n",
       "      <th>Competitors</th>\n",
       "      <th>Easy Apply</th>\n",
       "    </tr>\n",
       "  </thead>\n",
       "  <tbody>\n",
       "    <tr>\n",
       "      <th>0</th>\n",
       "      <td>Data Analyst, Center on Immigration and Justic...</td>\n",
       "      <td>$37K-$66K (Glassdoor est.)</td>\n",
       "      <td>Are you eager to roll up your sleeves and harn...</td>\n",
       "      <td>3.2</td>\n",
       "      <td>Vera Institute of Justice\\n3.2</td>\n",
       "      <td>New York, NY</td>\n",
       "      <td>New York, NY</td>\n",
       "      <td>201 to 500 employees</td>\n",
       "      <td>1961</td>\n",
       "      <td>Nonprofit Organization</td>\n",
       "      <td>Social Assistance</td>\n",
       "      <td>Non-Profit</td>\n",
       "      <td>$100 to $500 million (USD)</td>\n",
       "      <td>-1</td>\n",
       "      <td>True</td>\n",
       "    </tr>\n",
       "    <tr>\n",
       "      <th>1</th>\n",
       "      <td>Quality Data Analyst</td>\n",
       "      <td>$37K-$66K (Glassdoor est.)</td>\n",
       "      <td>Overview\\n\\nProvides analytical and technical ...</td>\n",
       "      <td>3.8</td>\n",
       "      <td>Visiting Nurse Service of New York\\n3.8</td>\n",
       "      <td>New York, NY</td>\n",
       "      <td>New York, NY</td>\n",
       "      <td>10000+ employees</td>\n",
       "      <td>1893</td>\n",
       "      <td>Nonprofit Organization</td>\n",
       "      <td>Health Care Services &amp; Hospitals</td>\n",
       "      <td>Health Care</td>\n",
       "      <td>$2 to $5 billion (USD)</td>\n",
       "      <td>-1</td>\n",
       "      <td>-1</td>\n",
       "    </tr>\n",
       "    <tr>\n",
       "      <th>2</th>\n",
       "      <td>Senior Data Analyst, Insights &amp; Analytics Team...</td>\n",
       "      <td>$37K-$66K (Glassdoor est.)</td>\n",
       "      <td>We’re looking for a Senior Data Analyst who ha...</td>\n",
       "      <td>3.4</td>\n",
       "      <td>Squarespace\\n3.4</td>\n",
       "      <td>New York, NY</td>\n",
       "      <td>New York, NY</td>\n",
       "      <td>1001 to 5000 employees</td>\n",
       "      <td>2003</td>\n",
       "      <td>Company - Private</td>\n",
       "      <td>Internet</td>\n",
       "      <td>Information Technology</td>\n",
       "      <td>Unknown / Non-Applicable</td>\n",
       "      <td>GoDaddy</td>\n",
       "      <td>-1</td>\n",
       "    </tr>\n",
       "    <tr>\n",
       "      <th>3</th>\n",
       "      <td>Data Analyst</td>\n",
       "      <td>$37K-$66K (Glassdoor est.)</td>\n",
       "      <td>Requisition NumberRR-0001939\\nRemote:Yes\\nWe c...</td>\n",
       "      <td>4.1</td>\n",
       "      <td>Celerity\\n4.1</td>\n",
       "      <td>New York, NY</td>\n",
       "      <td>McLean, VA</td>\n",
       "      <td>201 to 500 employees</td>\n",
       "      <td>2002</td>\n",
       "      <td>Subsidiary or Business Segment</td>\n",
       "      <td>IT Services</td>\n",
       "      <td>Information Technology</td>\n",
       "      <td>$50 to $100 million (USD)</td>\n",
       "      <td>-1</td>\n",
       "      <td>-1</td>\n",
       "    </tr>\n",
       "    <tr>\n",
       "      <th>4</th>\n",
       "      <td>Reporting Data Analyst</td>\n",
       "      <td>$37K-$66K (Glassdoor est.)</td>\n",
       "      <td>ABOUT FANDUEL GROUP\\n\\nFanDuel Group is a worl...</td>\n",
       "      <td>3.9</td>\n",
       "      <td>FanDuel\\n3.9</td>\n",
       "      <td>New York, NY</td>\n",
       "      <td>New York, NY</td>\n",
       "      <td>501 to 1000 employees</td>\n",
       "      <td>2009</td>\n",
       "      <td>Company - Private</td>\n",
       "      <td>Sports &amp; Recreation</td>\n",
       "      <td>Arts, Entertainment &amp; Recreation</td>\n",
       "      <td>$100 to $500 million (USD)</td>\n",
       "      <td>DraftKings</td>\n",
       "      <td>True</td>\n",
       "    </tr>\n",
       "    <tr>\n",
       "      <th>...</th>\n",
       "      <td>...</td>\n",
       "      <td>...</td>\n",
       "      <td>...</td>\n",
       "      <td>...</td>\n",
       "      <td>...</td>\n",
       "      <td>...</td>\n",
       "      <td>...</td>\n",
       "      <td>...</td>\n",
       "      <td>...</td>\n",
       "      <td>...</td>\n",
       "      <td>...</td>\n",
       "      <td>...</td>\n",
       "      <td>...</td>\n",
       "      <td>...</td>\n",
       "      <td>...</td>\n",
       "    </tr>\n",
       "    <tr>\n",
       "      <th>2248</th>\n",
       "      <td>RQS - IHHA - 201900004460 -1q Data Security An...</td>\n",
       "      <td>$78K-$104K (Glassdoor est.)</td>\n",
       "      <td>Maintains systems to protect data from unautho...</td>\n",
       "      <td>2.5</td>\n",
       "      <td>Avacend, Inc.\\n2.5</td>\n",
       "      <td>Denver, CO</td>\n",
       "      <td>Alpharetta, GA</td>\n",
       "      <td>51 to 200 employees</td>\n",
       "      <td>-1</td>\n",
       "      <td>Company - Private</td>\n",
       "      <td>Staffing &amp; Outsourcing</td>\n",
       "      <td>Business Services</td>\n",
       "      <td>Unknown / Non-Applicable</td>\n",
       "      <td>-1</td>\n",
       "      <td>-1</td>\n",
       "    </tr>\n",
       "    <tr>\n",
       "      <th>2249</th>\n",
       "      <td>Senior Data Analyst (Corporate Audit)</td>\n",
       "      <td>$78K-$104K (Glassdoor est.)</td>\n",
       "      <td>Position:\\nSenior Data Analyst (Corporate Audi...</td>\n",
       "      <td>2.9</td>\n",
       "      <td>Arrow Electronics\\n2.9</td>\n",
       "      <td>Centennial, CO</td>\n",
       "      <td>Centennial, CO</td>\n",
       "      <td>10000+ employees</td>\n",
       "      <td>1935</td>\n",
       "      <td>Company - Public</td>\n",
       "      <td>Wholesale</td>\n",
       "      <td>Business Services</td>\n",
       "      <td>$10+ billion (USD)</td>\n",
       "      <td>Avnet, Ingram Micro, Tech Data</td>\n",
       "      <td>-1</td>\n",
       "    </tr>\n",
       "    <tr>\n",
       "      <th>2250</th>\n",
       "      <td>Technical Business Analyst (SQL, Data analytic...</td>\n",
       "      <td>$78K-$104K (Glassdoor est.)</td>\n",
       "      <td>Title: Technical Business Analyst (SQL, Data a...</td>\n",
       "      <td>-1.0</td>\n",
       "      <td>Spiceorb</td>\n",
       "      <td>Denver, CO</td>\n",
       "      <td>-1</td>\n",
       "      <td>-1</td>\n",
       "      <td>-1</td>\n",
       "      <td>-1</td>\n",
       "      <td>-1</td>\n",
       "      <td>-1</td>\n",
       "      <td>-1</td>\n",
       "      <td>-1</td>\n",
       "      <td>-1</td>\n",
       "    </tr>\n",
       "    <tr>\n",
       "      <th>2251</th>\n",
       "      <td>Data Analyst 3, Customer Experience</td>\n",
       "      <td>$78K-$104K (Glassdoor est.)</td>\n",
       "      <td>Summary\\n\\nResponsible for working cross-funct...</td>\n",
       "      <td>3.1</td>\n",
       "      <td>Contingent Network Services\\n3.1</td>\n",
       "      <td>Centennial, CO</td>\n",
       "      <td>West Chester, OH</td>\n",
       "      <td>201 to 500 employees</td>\n",
       "      <td>1984</td>\n",
       "      <td>Company - Private</td>\n",
       "      <td>Enterprise Software &amp; Network Solutions</td>\n",
       "      <td>Information Technology</td>\n",
       "      <td>$25 to $50 million (USD)</td>\n",
       "      <td>-1</td>\n",
       "      <td>-1</td>\n",
       "    </tr>\n",
       "    <tr>\n",
       "      <th>2252</th>\n",
       "      <td>Senior Quality Data Analyst</td>\n",
       "      <td>$78K-$104K (Glassdoor est.)</td>\n",
       "      <td>You.\\n\\nYou bring your body, mind, heart and s...</td>\n",
       "      <td>3.4</td>\n",
       "      <td>SCL Health\\n3.4</td>\n",
       "      <td>Broomfield, CO</td>\n",
       "      <td>Broomfield, CO</td>\n",
       "      <td>10000+ employees</td>\n",
       "      <td>1864</td>\n",
       "      <td>Nonprofit Organization</td>\n",
       "      <td>Health Care Services &amp; Hospitals</td>\n",
       "      <td>Health Care</td>\n",
       "      <td>$2 to $5 billion (USD)</td>\n",
       "      <td>Centura Health, HealthONE, Denver Health and H...</td>\n",
       "      <td>-1</td>\n",
       "    </tr>\n",
       "  </tbody>\n",
       "</table>\n",
       "<p>2253 rows × 15 columns</p>\n",
       "</div>"
      ],
      "text/plain": [
       "                                              Job Title  \\\n",
       "0     Data Analyst, Center on Immigration and Justic...   \n",
       "1                                  Quality Data Analyst   \n",
       "2     Senior Data Analyst, Insights & Analytics Team...   \n",
       "3                                          Data Analyst   \n",
       "4                                Reporting Data Analyst   \n",
       "...                                                 ...   \n",
       "2248  RQS - IHHA - 201900004460 -1q Data Security An...   \n",
       "2249              Senior Data Analyst (Corporate Audit)   \n",
       "2250  Technical Business Analyst (SQL, Data analytic...   \n",
       "2251                Data Analyst 3, Customer Experience   \n",
       "2252                        Senior Quality Data Analyst   \n",
       "\n",
       "                  Salary Estimate  \\\n",
       "0      $37K-$66K (Glassdoor est.)   \n",
       "1      $37K-$66K (Glassdoor est.)   \n",
       "2      $37K-$66K (Glassdoor est.)   \n",
       "3      $37K-$66K (Glassdoor est.)   \n",
       "4      $37K-$66K (Glassdoor est.)   \n",
       "...                           ...   \n",
       "2248  $78K-$104K (Glassdoor est.)   \n",
       "2249  $78K-$104K (Glassdoor est.)   \n",
       "2250  $78K-$104K (Glassdoor est.)   \n",
       "2251  $78K-$104K (Glassdoor est.)   \n",
       "2252  $78K-$104K (Glassdoor est.)   \n",
       "\n",
       "                                        Job Description  Rating  \\\n",
       "0     Are you eager to roll up your sleeves and harn...     3.2   \n",
       "1     Overview\\n\\nProvides analytical and technical ...     3.8   \n",
       "2     We’re looking for a Senior Data Analyst who ha...     3.4   \n",
       "3     Requisition NumberRR-0001939\\nRemote:Yes\\nWe c...     4.1   \n",
       "4     ABOUT FANDUEL GROUP\\n\\nFanDuel Group is a worl...     3.9   \n",
       "...                                                 ...     ...   \n",
       "2248  Maintains systems to protect data from unautho...     2.5   \n",
       "2249  Position:\\nSenior Data Analyst (Corporate Audi...     2.9   \n",
       "2250  Title: Technical Business Analyst (SQL, Data a...    -1.0   \n",
       "2251  Summary\\n\\nResponsible for working cross-funct...     3.1   \n",
       "2252  You.\\n\\nYou bring your body, mind, heart and s...     3.4   \n",
       "\n",
       "                                 Company Name        Location  \\\n",
       "0              Vera Institute of Justice\\n3.2    New York, NY   \n",
       "1     Visiting Nurse Service of New York\\n3.8    New York, NY   \n",
       "2                            Squarespace\\n3.4    New York, NY   \n",
       "3                               Celerity\\n4.1    New York, NY   \n",
       "4                                FanDuel\\n3.9    New York, NY   \n",
       "...                                       ...             ...   \n",
       "2248                       Avacend, Inc.\\n2.5      Denver, CO   \n",
       "2249                   Arrow Electronics\\n2.9  Centennial, CO   \n",
       "2250                                 Spiceorb      Denver, CO   \n",
       "2251         Contingent Network Services\\n3.1  Centennial, CO   \n",
       "2252                          SCL Health\\n3.4  Broomfield, CO   \n",
       "\n",
       "          Headquarters                    Size  Founded  \\\n",
       "0         New York, NY    201 to 500 employees     1961   \n",
       "1         New York, NY        10000+ employees     1893   \n",
       "2         New York, NY  1001 to 5000 employees     2003   \n",
       "3           McLean, VA    201 to 500 employees     2002   \n",
       "4         New York, NY   501 to 1000 employees     2009   \n",
       "...                ...                     ...      ...   \n",
       "2248    Alpharetta, GA     51 to 200 employees       -1   \n",
       "2249    Centennial, CO        10000+ employees     1935   \n",
       "2250                -1                      -1       -1   \n",
       "2251  West Chester, OH    201 to 500 employees     1984   \n",
       "2252    Broomfield, CO        10000+ employees     1864   \n",
       "\n",
       "                   Type of ownership                                 Industry  \\\n",
       "0             Nonprofit Organization                        Social Assistance   \n",
       "1             Nonprofit Organization         Health Care Services & Hospitals   \n",
       "2                  Company - Private                                 Internet   \n",
       "3     Subsidiary or Business Segment                              IT Services   \n",
       "4                  Company - Private                      Sports & Recreation   \n",
       "...                              ...                                      ...   \n",
       "2248               Company - Private                   Staffing & Outsourcing   \n",
       "2249                Company - Public                                Wholesale   \n",
       "2250                              -1                                       -1   \n",
       "2251               Company - Private  Enterprise Software & Network Solutions   \n",
       "2252          Nonprofit Organization         Health Care Services & Hospitals   \n",
       "\n",
       "                                Sector                     Revenue  \\\n",
       "0                           Non-Profit  $100 to $500 million (USD)   \n",
       "1                          Health Care      $2 to $5 billion (USD)   \n",
       "2               Information Technology    Unknown / Non-Applicable   \n",
       "3               Information Technology   $50 to $100 million (USD)   \n",
       "4     Arts, Entertainment & Recreation  $100 to $500 million (USD)   \n",
       "...                                ...                         ...   \n",
       "2248                 Business Services    Unknown / Non-Applicable   \n",
       "2249                 Business Services          $10+ billion (USD)   \n",
       "2250                                -1                          -1   \n",
       "2251            Information Technology    $25 to $50 million (USD)   \n",
       "2252                       Health Care      $2 to $5 billion (USD)   \n",
       "\n",
       "                                            Competitors Easy Apply  \n",
       "0                                                    -1       True  \n",
       "1                                                    -1         -1  \n",
       "2                                               GoDaddy         -1  \n",
       "3                                                    -1         -1  \n",
       "4                                            DraftKings       True  \n",
       "...                                                 ...        ...  \n",
       "2248                                                 -1         -1  \n",
       "2249                     Avnet, Ingram Micro, Tech Data         -1  \n",
       "2250                                                 -1         -1  \n",
       "2251                                                 -1         -1  \n",
       "2252  Centura Health, HealthONE, Denver Health and H...         -1  \n",
       "\n",
       "[2253 rows x 15 columns]"
      ]
     },
     "execution_count": 3,
     "metadata": {},
     "output_type": "execute_result"
    }
   ],
   "source": [
    "df"
   ]
  },
  {
   "cell_type": "code",
   "execution_count": 4,
   "metadata": {},
   "outputs": [
    {
     "name": "stdout",
     "output_type": "stream",
     "text": [
      "<class 'pandas.core.frame.DataFrame'>\n",
      "Int64Index: 2253 entries, 0 to 2252\n",
      "Data columns (total 15 columns):\n",
      " #   Column             Non-Null Count  Dtype  \n",
      "---  ------             --------------  -----  \n",
      " 0   Job Title          2253 non-null   object \n",
      " 1   Salary Estimate    2253 non-null   object \n",
      " 2   Job Description    2253 non-null   object \n",
      " 3   Rating             2253 non-null   float64\n",
      " 4   Company Name       2252 non-null   object \n",
      " 5   Location           2253 non-null   object \n",
      " 6   Headquarters       2253 non-null   object \n",
      " 7   Size               2253 non-null   object \n",
      " 8   Founded            2253 non-null   int64  \n",
      " 9   Type of ownership  2253 non-null   object \n",
      " 10  Industry           2253 non-null   object \n",
      " 11  Sector             2253 non-null   object \n",
      " 12  Revenue            2253 non-null   object \n",
      " 13  Competitors        2253 non-null   object \n",
      " 14  Easy Apply         2253 non-null   object \n",
      "dtypes: float64(1), int64(1), object(13)\n",
      "memory usage: 281.6+ KB\n"
     ]
    }
   ],
   "source": [
    "df.info()"
   ]
  },
  {
   "cell_type": "markdown",
   "metadata": {},
   "source": [
    "# Data Wrangling"
   ]
  },
  {
   "cell_type": "code",
   "execution_count": 5,
   "metadata": {},
   "outputs": [],
   "source": [
    "df_cleaned = df.copy()"
   ]
  },
  {
   "cell_type": "code",
   "execution_count": 6,
   "metadata": {},
   "outputs": [],
   "source": [
    "column_names_dict = {\n",
    "    'Job Title': \"job_title\",\n",
    "    'Salary Estimate': \"salary_estimate\",\n",
    "    'Job Description': \"job_description\",\n",
    "    'Rating': \"rating\",\n",
    "    'Company Name': \"company_name\",\n",
    "    'Location': \"location\",\n",
    "    'Headquarters': \"headquaters\",\n",
    "    'Size': \"size\",\n",
    "    'Founded': \"founded\",\n",
    "    'Type of ownership': \"type_of_ownership\",\n",
    "    'Industry': \"industry\",\n",
    "    'Sector': \"sector\",\n",
    "    'Revenue': \"revenue\",\n",
    "    'Competitors': \"competitors\",\n",
    "    'Easy Apply': \"easy_apply\"\n",
    "}\n",
    "\n",
    "df_cleaned.rename(columns=column_names_dict, inplace=True)"
   ]
  },
  {
   "cell_type": "code",
   "execution_count": 7,
   "metadata": {},
   "outputs": [],
   "source": [
    "df_cleaned.dropna(inplace=True)"
   ]
  },
  {
   "cell_type": "code",
   "execution_count": 8,
   "metadata": {},
   "outputs": [
    {
     "name": "stdout",
     "output_type": "stream",
     "text": [
      "<class 'pandas.core.frame.DataFrame'>\n",
      "Int64Index: 2252 entries, 0 to 2252\n",
      "Data columns (total 15 columns):\n",
      " #   Column             Non-Null Count  Dtype  \n",
      "---  ------             --------------  -----  \n",
      " 0   job_title          2252 non-null   object \n",
      " 1   salary_estimate    2252 non-null   object \n",
      " 2   job_description    2252 non-null   object \n",
      " 3   rating             2252 non-null   float64\n",
      " 4   company_name       2252 non-null   object \n",
      " 5   location           2252 non-null   object \n",
      " 6   headquaters        2252 non-null   object \n",
      " 7   size               2252 non-null   object \n",
      " 8   founded            2252 non-null   int64  \n",
      " 9   type_of_ownership  2252 non-null   object \n",
      " 10  industry           2252 non-null   object \n",
      " 11  sector             2252 non-null   object \n",
      " 12  revenue            2252 non-null   object \n",
      " 13  competitors        2252 non-null   object \n",
      " 14  easy_apply         2252 non-null   object \n",
      "dtypes: float64(1), int64(1), object(13)\n",
      "memory usage: 281.5+ KB\n"
     ]
    }
   ],
   "source": [
    "df_cleaned.info()"
   ]
  },
  {
   "cell_type": "code",
   "execution_count": 9,
   "metadata": {},
   "outputs": [],
   "source": [
    "df_cleaned['salary_estimate'] = df_cleaned['salary_estimate'].str.split('(').str[0].str.strip()"
   ]
  },
  {
   "cell_type": "code",
   "execution_count": 10,
   "metadata": {},
   "outputs": [],
   "source": [
    "indice_to_remove = df_cleaned.query('salary_estimate == \"-1\"').index\n",
    "\n",
    "df_cleaned.drop(indice_to_remove, inplace=True)"
   ]
  },
  {
   "cell_type": "code",
   "execution_count": 11,
   "metadata": {},
   "outputs": [],
   "source": [
    "salary_counts = df_cleaned['salary_estimate'].value_counts()"
   ]
  },
  {
   "cell_type": "code",
   "execution_count": 12,
   "metadata": {},
   "outputs": [],
   "source": [
    "indice_to_remove = df_cleaned.query('rating == \"-1\"').index\n",
    "\n",
    "df_cleaned.drop(indice_to_remove, inplace=True)"
   ]
  },
  {
   "cell_type": "markdown",
   "metadata": {},
   "source": [
    "# Data Visualization"
   ]
  },
  {
   "cell_type": "code",
   "execution_count": 13,
   "metadata": {},
   "outputs": [],
   "source": [
    "current_palette = sns.color_palette(\"colorblind\")\n",
    "\n",
    "sns.set_palette(current_palette)\n",
    "\n",
    "base_color=current_palette[0]"
   ]
  },
  {
   "cell_type": "code",
   "execution_count": null,
   "metadata": {},
   "outputs": [
    {
     "data": {
      "text/plain": [
       "<matplotlib.axes._subplots.AxesSubplot at 0x7fd383756fa0>"
      ]
     },
     "execution_count": 14,
     "metadata": {},
     "output_type": "execute_result"
    }
   ],
   "source": [
    "plt.rcParams['figure.figsize'] = (21, 21)\n",
    "\n",
    "sns.countplot(y=\"salary_estimate\", data=df_cleaned, color=base_color, order=salary_counts.index)"
   ]
  },
  {
   "cell_type": "code",
   "execution_count": null,
   "metadata": {},
   "outputs": [],
   "source": [
    "plt.rcParams['figure.figsize'] = (8, 8)\n",
    "\n",
    "bins = np.arange(1, 5+0.5, 0.5)\n",
    "\n",
    "plt.hist(df_cleaned['rating'], color=base_color, bins=bins)\n",
    "\n",
    "plt.xticks(bins)\n",
    "\n",
    "plt.show()"
   ]
  },
  {
   "cell_type": "code",
   "execution_count": null,
   "metadata": {},
   "outputs": [],
   "source": [
    "heatmap1_data = pd.pivot_table(df_cleaned, values='rating', \n",
    "                     index=['salary_estimate'])\n",
    "                    \n",
    "\n",
    "sns.heatmap(heatmap1_data, vmin=4, cmap=\"vlag\")\n",
    "\n",
    "plt.show()"
   ]
  },
  {
   "cell_type": "markdown",
   "metadata": {},
   "source": [
    "# Predict salary based on industry, location, company revenue"
   ]
  },
  {
   "cell_type": "code",
   "execution_count": null,
   "metadata": {},
   "outputs": [],
   "source": [
    "df_new = df_cleaned.copy()"
   ]
  },
  {
   "cell_type": "markdown",
   "metadata": {},
   "source": [
    "## I. Data Wrangling"
   ]
  },
  {
   "cell_type": "code",
   "execution_count": null,
   "metadata": {},
   "outputs": [],
   "source": [
    "row_to_remove = df_new.query('industry == \"-1\"').index\n",
    "\n",
    "df_new.drop(row_to_remove, inplace=True)"
   ]
  },
  {
   "cell_type": "code",
   "execution_count": null,
   "metadata": {},
   "outputs": [],
   "source": [
    "row_to_remove = df_new.query('revenue == \"Unknown / Non-Applicable\"').index\n",
    "\n",
    "df_new.drop(row_to_remove, inplace=True)"
   ]
  },
  {
   "cell_type": "code",
   "execution_count": null,
   "metadata": {},
   "outputs": [],
   "source": [
    "df_new['revenue'].unique()"
   ]
  },
  {
   "cell_type": "code",
   "execution_count": null,
   "metadata": {},
   "outputs": [],
   "source": [
    "df_new['revenue'] = df_new['revenue'].str.split('(').str[0].str.strip().str.replace('$', '')"
   ]
  },
  {
   "cell_type": "code",
   "execution_count": null,
   "metadata": {},
   "outputs": [],
   "source": [
    "df_new['revenue'].unique()"
   ]
  },
  {
   "cell_type": "code",
   "execution_count": null,
   "metadata": {},
   "outputs": [],
   "source": [
    "processed_revenue = df_new['revenue'].apply(uh.process_revenue)"
   ]
  },
  {
   "cell_type": "code",
   "execution_count": null,
   "metadata": {},
   "outputs": [],
   "source": [
    "df_new['min_revenue'], df_new['max_revenue'] = processed_revenue.str[0], processed_revenue.str[1]"
   ]
  },
  {
   "cell_type": "code",
   "execution_count": null,
   "metadata": {},
   "outputs": [],
   "source": [
    "df_new"
   ]
  },
  {
   "cell_type": "code",
   "execution_count": null,
   "metadata": {},
   "outputs": [],
   "source": []
  }
 ],
 "metadata": {
  "kernelspec": {
   "display_name": "Python 3",
   "language": "python",
   "name": "python3"
  },
  "language_info": {
   "codemirror_mode": {
    "name": "ipython",
    "version": 3
   },
   "file_extension": ".py",
   "mimetype": "text/x-python",
   "name": "python",
   "nbconvert_exporter": "python",
   "pygments_lexer": "ipython3",
   "version": "3.8.3"
  }
 },
 "nbformat": 4,
 "nbformat_minor": 4
}
